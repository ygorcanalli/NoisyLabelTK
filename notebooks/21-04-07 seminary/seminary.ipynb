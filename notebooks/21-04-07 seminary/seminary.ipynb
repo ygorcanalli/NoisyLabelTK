{
 "cells": [
  {
   "cell_type": "code",
   "execution_count": 3,
   "metadata": {
    "collapsed": true
   },
   "outputs": [],
   "source": [
    "import neptune.new as neptune\n",
    "import pandas as pd\n",
    "import numpy as np\n",
    "import matplotlib.pyplot as plt\n",
    "\n",
    "project = neptune.get_project('ygorcanalli/LabelNoise')\n",
    "df = project.fetch_runs_table(tag='hyperparameter-rerun').to_pandas()"
   ]
  },
  {
   "cell_type": "code",
   "execution_count": 4,
   "outputs": [],
   "source": [
    "df[\"model/params/noise-args\"].replace('[0.0]', '0.0', inplace=True)\n",
    "df[\"model/params/noise-args\"].replace('[0]', '0.0', inplace=True)\n",
    "df[\"model/params/noise-args\"].replace('[0.05]', '0.05', inplace=True)\n",
    "df[\"model/params/noise-args\"].replace('[0.1]', '0.1', inplace=True)\n",
    "df[\"model/params/noise-args\"].replace('[0.15]', '0.15', inplace=True)\n",
    "df[\"model/params/noise-args\"].replace('[0.2]', '0.2', inplace=True)\n",
    "df[\"model/params/noise-args\"].replace('[0.25]', '0.25', inplace=True)\n",
    "df[\"model/params/noise-args\"].replace('[0.3]', '0.3', inplace=True)\n",
    "df[\"model/params/noise-args\"] = df[\"model/params/noise-args\"].astype('float')\n",
    "\n",
    "df.to_csv('raw_data.csv')"
   ],
   "metadata": {
    "collapsed": false,
    "pycharm": {
     "name": "#%%\n"
    }
   }
  },
  {
   "cell_type": "code",
   "execution_count": 5,
   "outputs": [
    {
     "data": {
      "text/plain": "                 sys/creation_time sys/description sys/hostname   sys/id  \\\n0 2021-04-04 22:31:20.055000+00:00                     meriadoc  LAB-423   \n1 2021-04-02 22:37:10.263000+00:00                     meriadoc  LAB-368   \n2 2021-04-04 17:27:49.070000+00:00                     meriadoc  LAB-411   \n3 2021-04-04 17:10:07.670000+00:00                     meriadoc  LAB-405   \n4 2021-04-04 17:02:57.400000+00:00                     meriadoc  LAB-400   \n\n             sys/modification_time                             sys/name  \\\n0 2021-04-04 22:35:41.063000+00:00  synthetic-100-5-500K-uniform-[0.05]   \n1 2021-04-02 22:37:23.442000+00:00    synthetic-50-2-100K-uniform-[0.3]   \n2 2021-04-04 17:29:26.729000+00:00    synthetic-80-5-200K-uniform-[0.3]   \n3 2021-04-04 17:11:18.658000+00:00    synthetic-80-5-200K-uniform-[0.2]   \n4 2021-04-04 17:04:04.442000+00:00   synthetic-80-5-200K-uniform-[0.15]   \n\n     sys/owner                    sys/ping_time  sys/running_time   sys/size  \\\n0  ygorcanalli 2021-04-04 22:35:37.510000+00:00           257.439  4808390.0   \n1  ygorcanalli 2021-04-02 22:37:21.276000+00:00            11.012   244885.0   \n2  ygorcanalli 2021-04-04 17:29:22.311000+00:00            93.237  1926275.0   \n3  ygorcanalli 2021-04-04 17:10:49.525000+00:00            41.854  1926035.0   \n4  ygorcanalli 2021-04-04 17:03:39.164000+00:00            41.763  1926037.0   \n\n   ... parameters/hyperparameters/num_layers parameters/num-classes  \\\n0  ...                                   3.0                    5.0   \n1  ...                                   2.0                    2.0   \n2  ...                                   3.0                    5.0   \n3  ...                                   3.0                    5.0   \n4  ...                                   3.0                    5.0   \n\n   parameters/num-features  source_code/entrypoint  \\\n0                    100.0                 main.py   \n1                     50.0                 main.py   \n2                     80.0                 main.py   \n3                     80.0                 main.py   \n4                     80.0                 main.py   \n\n                            source_code/git  monitoring/cpu  monitoring/gpu  \\\n0  0f0b3e1dca1ee35dbc055f5a45002c97adf5a273            26.4             8.0   \n1  877f5f997285690780c2e680ad9997a98baaf159            23.0             NaN   \n2  0f0b3e1dca1ee35dbc055f5a45002c97adf5a273            19.5             NaN   \n3  0f0b3e1dca1ee35dbc055f5a45002c97adf5a273            35.8             NaN   \n4  0f0b3e1dca1ee35dbc055f5a45002c97adf5a273            36.0             NaN   \n\n   monitoring/gpu_memory  monitoring/memory  \\\n0               5.687683          11.029408   \n1                    NaN          10.144955   \n2                    NaN           6.535912   \n3                    NaN           9.647404   \n4                    NaN           9.223026   \n\n                                   monitoring/stdout  \n0  https://ui.neptune.ai/ygorcanalli/LabelNoise/e...  \n1  https://ui.neptune.ai/ygorcanalli/LabelNoise/e...  \n2  https://ui.neptune.ai/ygorcanalli/LabelNoise/e...  \n3  https://ui.neptune.ai/ygorcanalli/LabelNoise/e...  \n4  https://ui.neptune.ai/ygorcanalli/LabelNoise/e...  \n\n[5 rows x 44 columns]",
      "text/html": "<div>\n<style scoped>\n    .dataframe tbody tr th:only-of-type {\n        vertical-align: middle;\n    }\n\n    .dataframe tbody tr th {\n        vertical-align: top;\n    }\n\n    .dataframe thead th {\n        text-align: right;\n    }\n</style>\n<table border=\"1\" class=\"dataframe\">\n  <thead>\n    <tr style=\"text-align: right;\">\n      <th></th>\n      <th>sys/creation_time</th>\n      <th>sys/description</th>\n      <th>sys/hostname</th>\n      <th>sys/id</th>\n      <th>sys/modification_time</th>\n      <th>sys/name</th>\n      <th>sys/owner</th>\n      <th>sys/ping_time</th>\n      <th>sys/running_time</th>\n      <th>sys/size</th>\n      <th>...</th>\n      <th>parameters/hyperparameters/num_layers</th>\n      <th>parameters/num-classes</th>\n      <th>parameters/num-features</th>\n      <th>source_code/entrypoint</th>\n      <th>source_code/git</th>\n      <th>monitoring/cpu</th>\n      <th>monitoring/gpu</th>\n      <th>monitoring/gpu_memory</th>\n      <th>monitoring/memory</th>\n      <th>monitoring/stdout</th>\n    </tr>\n  </thead>\n  <tbody>\n    <tr>\n      <th>0</th>\n      <td>2021-04-04 22:31:20.055000+00:00</td>\n      <td></td>\n      <td>meriadoc</td>\n      <td>LAB-423</td>\n      <td>2021-04-04 22:35:41.063000+00:00</td>\n      <td>synthetic-100-5-500K-uniform-[0.05]</td>\n      <td>ygorcanalli</td>\n      <td>2021-04-04 22:35:37.510000+00:00</td>\n      <td>257.439</td>\n      <td>4808390.0</td>\n      <td>...</td>\n      <td>3.0</td>\n      <td>5.0</td>\n      <td>100.0</td>\n      <td>main.py</td>\n      <td>0f0b3e1dca1ee35dbc055f5a45002c97adf5a273</td>\n      <td>26.4</td>\n      <td>8.0</td>\n      <td>5.687683</td>\n      <td>11.029408</td>\n      <td>https://ui.neptune.ai/ygorcanalli/LabelNoise/e...</td>\n    </tr>\n    <tr>\n      <th>1</th>\n      <td>2021-04-02 22:37:10.263000+00:00</td>\n      <td></td>\n      <td>meriadoc</td>\n      <td>LAB-368</td>\n      <td>2021-04-02 22:37:23.442000+00:00</td>\n      <td>synthetic-50-2-100K-uniform-[0.3]</td>\n      <td>ygorcanalli</td>\n      <td>2021-04-02 22:37:21.276000+00:00</td>\n      <td>11.012</td>\n      <td>244885.0</td>\n      <td>...</td>\n      <td>2.0</td>\n      <td>2.0</td>\n      <td>50.0</td>\n      <td>main.py</td>\n      <td>877f5f997285690780c2e680ad9997a98baaf159</td>\n      <td>23.0</td>\n      <td>NaN</td>\n      <td>NaN</td>\n      <td>10.144955</td>\n      <td>https://ui.neptune.ai/ygorcanalli/LabelNoise/e...</td>\n    </tr>\n    <tr>\n      <th>2</th>\n      <td>2021-04-04 17:27:49.070000+00:00</td>\n      <td></td>\n      <td>meriadoc</td>\n      <td>LAB-411</td>\n      <td>2021-04-04 17:29:26.729000+00:00</td>\n      <td>synthetic-80-5-200K-uniform-[0.3]</td>\n      <td>ygorcanalli</td>\n      <td>2021-04-04 17:29:22.311000+00:00</td>\n      <td>93.237</td>\n      <td>1926275.0</td>\n      <td>...</td>\n      <td>3.0</td>\n      <td>5.0</td>\n      <td>80.0</td>\n      <td>main.py</td>\n      <td>0f0b3e1dca1ee35dbc055f5a45002c97adf5a273</td>\n      <td>19.5</td>\n      <td>NaN</td>\n      <td>NaN</td>\n      <td>6.535912</td>\n      <td>https://ui.neptune.ai/ygorcanalli/LabelNoise/e...</td>\n    </tr>\n    <tr>\n      <th>3</th>\n      <td>2021-04-04 17:10:07.670000+00:00</td>\n      <td></td>\n      <td>meriadoc</td>\n      <td>LAB-405</td>\n      <td>2021-04-04 17:11:18.658000+00:00</td>\n      <td>synthetic-80-5-200K-uniform-[0.2]</td>\n      <td>ygorcanalli</td>\n      <td>2021-04-04 17:10:49.525000+00:00</td>\n      <td>41.854</td>\n      <td>1926035.0</td>\n      <td>...</td>\n      <td>3.0</td>\n      <td>5.0</td>\n      <td>80.0</td>\n      <td>main.py</td>\n      <td>0f0b3e1dca1ee35dbc055f5a45002c97adf5a273</td>\n      <td>35.8</td>\n      <td>NaN</td>\n      <td>NaN</td>\n      <td>9.647404</td>\n      <td>https://ui.neptune.ai/ygorcanalli/LabelNoise/e...</td>\n    </tr>\n    <tr>\n      <th>4</th>\n      <td>2021-04-04 17:02:57.400000+00:00</td>\n      <td></td>\n      <td>meriadoc</td>\n      <td>LAB-400</td>\n      <td>2021-04-04 17:04:04.442000+00:00</td>\n      <td>synthetic-80-5-200K-uniform-[0.15]</td>\n      <td>ygorcanalli</td>\n      <td>2021-04-04 17:03:39.164000+00:00</td>\n      <td>41.763</td>\n      <td>1926037.0</td>\n      <td>...</td>\n      <td>3.0</td>\n      <td>5.0</td>\n      <td>80.0</td>\n      <td>main.py</td>\n      <td>0f0b3e1dca1ee35dbc055f5a45002c97adf5a273</td>\n      <td>36.0</td>\n      <td>NaN</td>\n      <td>NaN</td>\n      <td>9.223026</td>\n      <td>https://ui.neptune.ai/ygorcanalli/LabelNoise/e...</td>\n    </tr>\n  </tbody>\n</table>\n<p>5 rows × 44 columns</p>\n</div>"
     },
     "execution_count": 5,
     "metadata": {},
     "output_type": "execute_result"
    }
   ],
   "source": [
    "df.head()"
   ],
   "metadata": {
    "collapsed": false,
    "pycharm": {
     "name": "#%%\n"
    }
   }
  },
  {
   "cell_type": "code",
   "execution_count": 6,
   "outputs": [],
   "source": [
    "datasets = df[\"model/params/dataset\"].unique()\n",
    "robust_methods = ['none', 'boot-hard', 'boot-soft', 'forward']#df[\"model/params/robust-method\"].unique()\n",
    "noise_rates = df[\"model/params/noise-args\"].unique()\n",
    "noise_rates.sort()"
   ],
   "metadata": {
    "collapsed": false,
    "pycharm": {
     "name": "#%%\n"
    }
   }
  },
  {
   "cell_type": "code",
   "execution_count": 7,
   "outputs": [],
   "source": [
    "def get_metric_by_dataset(dataset, metric):\n",
    "\n",
    "    result = np.zeros( (len(robust_methods), len(noise_rates)) )\n",
    "    for i, robust_method in enumerate(robust_methods):\n",
    "        for j, noise_rate in enumerate(noise_rates):\n",
    "            robust_method_index = df[\"model/params/robust-method\"] == robust_method\n",
    "            noise_rate_index = df[\"model/params/noise-args\"] == noise_rate\n",
    "            dataset_index = df[\"model/params/dataset\"] == dataset\n",
    "            df_index = robust_method_index & noise_rate_index & dataset_index\n",
    "            result[i,j] = df[df_index][metric]\n",
    "\n",
    "    return result"
   ],
   "metadata": {
    "collapsed": false,
    "pycharm": {
     "name": "#%%\n"
    }
   }
  },
  {
   "cell_type": "code",
   "execution_count": 8,
   "outputs": [],
   "source": [
    "def plot_by_dataset(result, dataset, metric):\n",
    "    plt.style.use('seaborn-whitegrid')\n",
    "    fig = plt.figure()\n",
    "    ax = plt.axes()\n",
    "    for i, robust_method in enumerate(robust_methods):\n",
    "        ax.plot(noise_rates, result[i,:], label=robust_method)\n",
    "    ax.set_title(\"%s on %s dataset\" % (metric, dataset))\n",
    "    ax.set_xlabel(\"noise rates\")\n",
    "    ax.set_ylabel(metric);\n",
    "    ax.legend()\n",
    "\n",
    "    fig.show()\n",
    "    fig.savefig(\"%s %s.png\" % (dataset, metric), dpi=300)\n",
    "    plt.close(fig)"
   ],
   "metadata": {
    "collapsed": false,
    "pycharm": {
     "name": "#%%\n"
    }
   }
  },
  {
   "cell_type": "code",
   "execution_count": 9,
   "outputs": [
    {
     "name": "stderr",
     "output_type": "stream",
     "text": [
      "<ipython-input-8-9fb577a493bf>:12: UserWarning: Matplotlib is currently using module://ipykernel.pylab.backend_inline, which is a non-GUI backend, so cannot show the figure.\n",
      "  fig.show()\n",
      "<ipython-input-8-9fb577a493bf>:12: UserWarning: Matplotlib is currently using module://ipykernel.pylab.backend_inline, which is a non-GUI backend, so cannot show the figure.\n",
      "  fig.show()\n",
      "<ipython-input-8-9fb577a493bf>:12: UserWarning: Matplotlib is currently using module://ipykernel.pylab.backend_inline, which is a non-GUI backend, so cannot show the figure.\n",
      "  fig.show()\n",
      "<ipython-input-8-9fb577a493bf>:12: UserWarning: Matplotlib is currently using module://ipykernel.pylab.backend_inline, which is a non-GUI backend, so cannot show the figure.\n",
      "  fig.show()\n",
      "<ipython-input-8-9fb577a493bf>:12: UserWarning: Matplotlib is currently using module://ipykernel.pylab.backend_inline, which is a non-GUI backend, so cannot show the figure.\n",
      "  fig.show()\n",
      "<ipython-input-8-9fb577a493bf>:12: UserWarning: Matplotlib is currently using module://ipykernel.pylab.backend_inline, which is a non-GUI backend, so cannot show the figure.\n",
      "  fig.show()\n"
     ]
    }
   ],
   "source": [
    "for d in datasets:\n",
    "    result =  get_metric_by_dataset(d, 'metrics/eval_accuracy')\n",
    "    plot_by_dataset(result, d, 'Test accuracy')\n",
    "\n",
    "    result = get_metric_by_dataset(d, 'metrics/eval_loss')\n",
    "    plot_by_dataset(result, d, 'Test loss')\n"
   ],
   "metadata": {
    "collapsed": false,
    "pycharm": {
     "name": "#%%\n"
    }
   }
  },
  {
   "cell_type": "code",
   "execution_count": 9,
   "outputs": [],
   "source": [],
   "metadata": {
    "collapsed": false,
    "pycharm": {
     "name": "#%%\n"
    }
   }
  }
 ],
 "metadata": {
  "kernelspec": {
   "name": "python38564bitvenv95a03623a881487d83218e6b19f85eba",
   "language": "python",
   "display_name": "Python 3.8.5 64-bit ('venv')"
  },
  "language_info": {
   "codemirror_mode": {
    "name": "ipython",
    "version": 2
   },
   "file_extension": ".py",
   "mimetype": "text/x-python",
   "name": "python",
   "nbconvert_exporter": "python",
   "pygments_lexer": "ipython2",
   "version": "2.7.6"
  }
 },
 "nbformat": 4,
 "nbformat_minor": 0
}