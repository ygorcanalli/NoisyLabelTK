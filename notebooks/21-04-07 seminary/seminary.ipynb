{
 "cells": [
  {
   "cell_type": "code",
   "execution_count": 23,
   "metadata": {
    "collapsed": true
   },
   "outputs": [],
   "source": [
    "import neptune.new as neptune\n",
    "import pandas as pd\n",
    "\n",
    "project = neptune.get_project('ygorcanalli/LabelNoise')\n",
    "df = project.fetch_runs_table().to_pandas()\n",
    "df[\"model/params/noise-args\"].replace('[0.0]', '0.0', inplace=True)\n",
    "df[\"model/params/noise-args\"].replace('[0.05]', '0.05', inplace=True)\n",
    "df[\"model/params/noise-args\"].replace('[0.1]', '0.1', inplace=True)\n",
    "df[\"model/params/noise-args\"].replace('[0.15]', '0.15', inplace=True)\n",
    "df[\"model/params/noise-args\"].replace('[0.2]', '0.2', inplace=True)\n",
    "df[\"model/params/noise-args\"].replace('[0.25]', '0.25', inplace=True)\n",
    "df[\"model/params/noise-args\"].replace('[0.3]', '0.3', inplace=True)\n",
    "df[\"model/params/noise-args\"] = df[\"model/params/noise-args\"].astype('float')\n",
    "\n",
    "df.to_csv('raw_data.csv')"
   ]
  },
  {
   "cell_type": "code",
   "execution_count": 24,
   "outputs": [
    {
     "data": {
      "text/plain": "                 sys/creation_time sys/description sys/hostname   sys/id  \\\n0 2021-04-02 22:37:10.263000+00:00                     meriadoc  LAB-368   \n1 2021-04-02 22:35:02.811000+00:00                     meriadoc  LAB-367   \n2 2021-04-02 22:27:45.086000+00:00                     meriadoc  LAB-354   \n3 2021-04-02 22:37:26.542000+00:00                     meriadoc  LAB-369   \n4 2021-04-02 22:21:42.550000+00:00                     meriadoc  LAB-346   \n\n             sys/modification_time                            sys/name  \\\n0 2021-04-02 22:37:23.442000+00:00   synthetic-50-2-100K-uniform-[0.3]   \n1 2021-04-02 22:35:15.893000+00:00  synthetic-50-2-100K-uniform-[0.25]   \n2 2021-04-02 22:27:59.076000+00:00  synthetic-50-2-100K-uniform-[0.15]   \n3 2021-04-02 22:37:39.697000+00:00   synthetic-50-2-100K-uniform-[0.3]   \n4 2021-04-02 22:21:56.490000+00:00  synthetic-50-2-100K-uniform-[0.05]   \n\n     sys/owner                    sys/ping_time  sys/running_time  sys/size  \\\n0  ygorcanalli 2021-04-02 22:37:21.276000+00:00            11.012  244885.0   \n1  ygorcanalli 2021-04-02 22:35:13.788000+00:00            10.976  245074.0   \n2  ygorcanalli 2021-04-02 22:27:56.142000+00:00            11.056  245074.0   \n3  ygorcanalli 2021-04-02 22:37:37.517000+00:00            10.974  244885.0   \n4  ygorcanalli 2021-04-02 22:21:53.710000+00:00            11.159  244888.0   \n\n   ... parameters/hyperparameters/hidden_size_1  \\\n0  ...                                     39.0   \n1  ...                                     73.0   \n2  ...                                     18.0   \n3  ...                                     39.0   \n4  ...                                     71.0   \n\n  parameters/hyperparameters/hidden_size_2  \\\n0                                      NaN   \n1                                     73.0   \n2                                    118.0   \n3                                      NaN   \n4                                      NaN   \n\n   parameters/hyperparameters/num_layers  parameters/num-classes  \\\n0                                    2.0                     2.0   \n1                                    3.0                     2.0   \n2                                    3.0                     2.0   \n3                                    2.0                     2.0   \n4                                    2.0                     2.0   \n\n   parameters/num-features  source_code/entrypoint  \\\n0                     50.0                 main.py   \n1                     50.0                 main.py   \n2                     50.0                 main.py   \n3                     50.0                 main.py   \n4                     50.0                 main.py   \n\n                            source_code/git  monitoring/cpu  \\\n0  877f5f997285690780c2e680ad9997a98baaf159            23.0   \n1  877f5f997285690780c2e680ad9997a98baaf159            25.9   \n2  877f5f997285690780c2e680ad9997a98baaf159            24.5   \n3  877f5f997285690780c2e680ad9997a98baaf159            25.0   \n4  877f5f997285690780c2e680ad9997a98baaf159            22.7   \n\n   monitoring/memory                                  monitoring/stdout  \n0          10.144955  https://ui.neptune.ai/ygorcanalli/LabelNoise/e...  \n1          10.090820  https://ui.neptune.ai/ygorcanalli/LabelNoise/e...  \n2           9.745159  https://ui.neptune.ai/ygorcanalli/LabelNoise/e...  \n3          10.189030  https://ui.neptune.ai/ygorcanalli/LabelNoise/e...  \n4           9.093746  https://ui.neptune.ai/ygorcanalli/LabelNoise/e...  \n\n[5 rows x 42 columns]",
      "text/html": "<div>\n<style scoped>\n    .dataframe tbody tr th:only-of-type {\n        vertical-align: middle;\n    }\n\n    .dataframe tbody tr th {\n        vertical-align: top;\n    }\n\n    .dataframe thead th {\n        text-align: right;\n    }\n</style>\n<table border=\"1\" class=\"dataframe\">\n  <thead>\n    <tr style=\"text-align: right;\">\n      <th></th>\n      <th>sys/creation_time</th>\n      <th>sys/description</th>\n      <th>sys/hostname</th>\n      <th>sys/id</th>\n      <th>sys/modification_time</th>\n      <th>sys/name</th>\n      <th>sys/owner</th>\n      <th>sys/ping_time</th>\n      <th>sys/running_time</th>\n      <th>sys/size</th>\n      <th>...</th>\n      <th>parameters/hyperparameters/hidden_size_1</th>\n      <th>parameters/hyperparameters/hidden_size_2</th>\n      <th>parameters/hyperparameters/num_layers</th>\n      <th>parameters/num-classes</th>\n      <th>parameters/num-features</th>\n      <th>source_code/entrypoint</th>\n      <th>source_code/git</th>\n      <th>monitoring/cpu</th>\n      <th>monitoring/memory</th>\n      <th>monitoring/stdout</th>\n    </tr>\n  </thead>\n  <tbody>\n    <tr>\n      <th>0</th>\n      <td>2021-04-02 22:37:10.263000+00:00</td>\n      <td></td>\n      <td>meriadoc</td>\n      <td>LAB-368</td>\n      <td>2021-04-02 22:37:23.442000+00:00</td>\n      <td>synthetic-50-2-100K-uniform-[0.3]</td>\n      <td>ygorcanalli</td>\n      <td>2021-04-02 22:37:21.276000+00:00</td>\n      <td>11.012</td>\n      <td>244885.0</td>\n      <td>...</td>\n      <td>39.0</td>\n      <td>NaN</td>\n      <td>2.0</td>\n      <td>2.0</td>\n      <td>50.0</td>\n      <td>main.py</td>\n      <td>877f5f997285690780c2e680ad9997a98baaf159</td>\n      <td>23.0</td>\n      <td>10.144955</td>\n      <td>https://ui.neptune.ai/ygorcanalli/LabelNoise/e...</td>\n    </tr>\n    <tr>\n      <th>1</th>\n      <td>2021-04-02 22:35:02.811000+00:00</td>\n      <td></td>\n      <td>meriadoc</td>\n      <td>LAB-367</td>\n      <td>2021-04-02 22:35:15.893000+00:00</td>\n      <td>synthetic-50-2-100K-uniform-[0.25]</td>\n      <td>ygorcanalli</td>\n      <td>2021-04-02 22:35:13.788000+00:00</td>\n      <td>10.976</td>\n      <td>245074.0</td>\n      <td>...</td>\n      <td>73.0</td>\n      <td>73.0</td>\n      <td>3.0</td>\n      <td>2.0</td>\n      <td>50.0</td>\n      <td>main.py</td>\n      <td>877f5f997285690780c2e680ad9997a98baaf159</td>\n      <td>25.9</td>\n      <td>10.090820</td>\n      <td>https://ui.neptune.ai/ygorcanalli/LabelNoise/e...</td>\n    </tr>\n    <tr>\n      <th>2</th>\n      <td>2021-04-02 22:27:45.086000+00:00</td>\n      <td></td>\n      <td>meriadoc</td>\n      <td>LAB-354</td>\n      <td>2021-04-02 22:27:59.076000+00:00</td>\n      <td>synthetic-50-2-100K-uniform-[0.15]</td>\n      <td>ygorcanalli</td>\n      <td>2021-04-02 22:27:56.142000+00:00</td>\n      <td>11.056</td>\n      <td>245074.0</td>\n      <td>...</td>\n      <td>18.0</td>\n      <td>118.0</td>\n      <td>3.0</td>\n      <td>2.0</td>\n      <td>50.0</td>\n      <td>main.py</td>\n      <td>877f5f997285690780c2e680ad9997a98baaf159</td>\n      <td>24.5</td>\n      <td>9.745159</td>\n      <td>https://ui.neptune.ai/ygorcanalli/LabelNoise/e...</td>\n    </tr>\n    <tr>\n      <th>3</th>\n      <td>2021-04-02 22:37:26.542000+00:00</td>\n      <td></td>\n      <td>meriadoc</td>\n      <td>LAB-369</td>\n      <td>2021-04-02 22:37:39.697000+00:00</td>\n      <td>synthetic-50-2-100K-uniform-[0.3]</td>\n      <td>ygorcanalli</td>\n      <td>2021-04-02 22:37:37.517000+00:00</td>\n      <td>10.974</td>\n      <td>244885.0</td>\n      <td>...</td>\n      <td>39.0</td>\n      <td>NaN</td>\n      <td>2.0</td>\n      <td>2.0</td>\n      <td>50.0</td>\n      <td>main.py</td>\n      <td>877f5f997285690780c2e680ad9997a98baaf159</td>\n      <td>25.0</td>\n      <td>10.189030</td>\n      <td>https://ui.neptune.ai/ygorcanalli/LabelNoise/e...</td>\n    </tr>\n    <tr>\n      <th>4</th>\n      <td>2021-04-02 22:21:42.550000+00:00</td>\n      <td></td>\n      <td>meriadoc</td>\n      <td>LAB-346</td>\n      <td>2021-04-02 22:21:56.490000+00:00</td>\n      <td>synthetic-50-2-100K-uniform-[0.05]</td>\n      <td>ygorcanalli</td>\n      <td>2021-04-02 22:21:53.710000+00:00</td>\n      <td>11.159</td>\n      <td>244888.0</td>\n      <td>...</td>\n      <td>71.0</td>\n      <td>NaN</td>\n      <td>2.0</td>\n      <td>2.0</td>\n      <td>50.0</td>\n      <td>main.py</td>\n      <td>877f5f997285690780c2e680ad9997a98baaf159</td>\n      <td>22.7</td>\n      <td>9.093746</td>\n      <td>https://ui.neptune.ai/ygorcanalli/LabelNoise/e...</td>\n    </tr>\n  </tbody>\n</table>\n<p>5 rows × 42 columns</p>\n</div>"
     },
     "execution_count": 24,
     "metadata": {},
     "output_type": "execute_result"
    }
   ],
   "source": [
    "df.head()"
   ],
   "metadata": {
    "collapsed": false,
    "pycharm": {
     "name": "#%%\n"
    }
   }
  },
  {
   "cell_type": "code",
   "execution_count": 25,
   "outputs": [],
   "source": [
    "datasets = df[\"model/params/dataset\"].unique()\n",
    "robust_methods = df[\"model/params/robust-method\"].unique()\n",
    "noise_rates = df[\"model/params/noise-args\"].unique()\n",
    "noise_rates.sort()"
   ],
   "metadata": {
    "collapsed": false,
    "pycharm": {
     "name": "#%%\n"
    }
   }
  },
  {
   "cell_type": "code",
   "execution_count": null,
   "outputs": [],
   "source": [],
   "metadata": {
    "collapsed": false,
    "pycharm": {
     "name": "#%%\n"
    }
   }
  }
 ],
 "metadata": {
  "kernelspec": {
   "name": "python38564bitvenv95a03623a881487d83218e6b19f85eba",
   "language": "python",
   "display_name": "Python 3.8.5 64-bit ('venv')"
  },
  "language_info": {
   "codemirror_mode": {
    "name": "ipython",
    "version": 2
   },
   "file_extension": ".py",
   "mimetype": "text/x-python",
   "name": "python",
   "nbconvert_exporter": "python",
   "pygments_lexer": "ipython2",
   "version": "2.7.6"
  }
 },
 "nbformat": 4,
 "nbformat_minor": 0
}