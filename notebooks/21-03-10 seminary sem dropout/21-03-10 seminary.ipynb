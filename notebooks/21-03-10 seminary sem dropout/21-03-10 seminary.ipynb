{
 "cells": [
  {
   "cell_type": "code",
   "execution_count": 1,
   "metadata": {
    "collapsed": true
   },
   "outputs": [
    {
     "data": {
      "text/plain": "        ID        Tags dataset       model robust-method  noise-args  \\\n0  SAN-990  semdropout  german  simple-mlp      backward        0.30   \n1  SAN-989  semdropout  german  simple-mlp       forward        0.20   \n2  SAN-988  semdropout  german  simple-mlp     boot-hard        0.25   \n3  SAN-987  semdropout  german  simple-mlp       forward        0.30   \n4  SAN-986  semdropout  german  simple-mlp     boot-hard        0.30   \n\n   eval_loss  eval_accuracy  \n0  -0.870107          0.675  \n1   0.591035          0.665  \n2   0.534907          0.700  \n3   0.630010          0.715  \n4   0.612858          0.630  ",
      "text/html": "<div>\n<style scoped>\n    .dataframe tbody tr th:only-of-type {\n        vertical-align: middle;\n    }\n\n    .dataframe tbody tr th {\n        vertical-align: top;\n    }\n\n    .dataframe thead th {\n        text-align: right;\n    }\n</style>\n<table border=\"1\" class=\"dataframe\">\n  <thead>\n    <tr style=\"text-align: right;\">\n      <th></th>\n      <th>ID</th>\n      <th>Tags</th>\n      <th>dataset</th>\n      <th>model</th>\n      <th>robust-method</th>\n      <th>noise-args</th>\n      <th>eval_loss</th>\n      <th>eval_accuracy</th>\n    </tr>\n  </thead>\n  <tbody>\n    <tr>\n      <th>0</th>\n      <td>SAN-990</td>\n      <td>semdropout</td>\n      <td>german</td>\n      <td>simple-mlp</td>\n      <td>backward</td>\n      <td>0.30</td>\n      <td>-0.870107</td>\n      <td>0.675</td>\n    </tr>\n    <tr>\n      <th>1</th>\n      <td>SAN-989</td>\n      <td>semdropout</td>\n      <td>german</td>\n      <td>simple-mlp</td>\n      <td>forward</td>\n      <td>0.20</td>\n      <td>0.591035</td>\n      <td>0.665</td>\n    </tr>\n    <tr>\n      <th>2</th>\n      <td>SAN-988</td>\n      <td>semdropout</td>\n      <td>german</td>\n      <td>simple-mlp</td>\n      <td>boot-hard</td>\n      <td>0.25</td>\n      <td>0.534907</td>\n      <td>0.700</td>\n    </tr>\n    <tr>\n      <th>3</th>\n      <td>SAN-987</td>\n      <td>semdropout</td>\n      <td>german</td>\n      <td>simple-mlp</td>\n      <td>forward</td>\n      <td>0.30</td>\n      <td>0.630010</td>\n      <td>0.715</td>\n    </tr>\n    <tr>\n      <th>4</th>\n      <td>SAN-986</td>\n      <td>semdropout</td>\n      <td>german</td>\n      <td>simple-mlp</td>\n      <td>boot-hard</td>\n      <td>0.30</td>\n      <td>0.612858</td>\n      <td>0.630</td>\n    </tr>\n  </tbody>\n</table>\n</div>"
     },
     "execution_count": 1,
     "metadata": {},
     "output_type": "execute_result"
    }
   ],
   "source": [
    "import pandas as pd\n",
    "import numpy as np\n",
    "import matplotlib.pyplot as plt\n",
    "\n",
    "dataframe = pd.read_csv(\"raw results.csv\")\n",
    "dataframe.head()"
   ]
  },
  {
   "cell_type": "code",
   "execution_count": 2,
   "outputs": [],
   "source": [
    "datasets = dataframe[\"dataset\"].unique()\n",
    "robust_methods = dataframe[\"robust-method\"].unique()\n",
    "noise_rates = dataframe[\"noise-args\"].unique()\n",
    "noise_rates.sort()"
   ],
   "metadata": {
    "collapsed": false,
    "pycharm": {
     "name": "#%%\n"
    }
   }
  },
  {
   "cell_type": "code",
   "execution_count": 3,
   "outputs": [],
   "source": [
    "def get_metric_by_dataset(dataset, metric):\n",
    "\n",
    "    result_array = np.zeros( (len(robust_methods), len(noise_rates)) )\n",
    "    for i, robust_method in enumerate(robust_methods):\n",
    "        for j, noise_rate in enumerate(noise_rates):\n",
    "            robust_method_index = dataframe[\"robust-method\"] == robust_method\n",
    "            noise_rate_index = dataframe[\"noise-args\"] == noise_rate\n",
    "            dataset_index = dataframe[\"dataset\"] == dataset\n",
    "            df_index = robust_method_index & noise_rate_index & dataset_index\n",
    "            result_array[i,j] = dataframe[df_index][metric]\n",
    "\n",
    "    return result_array"
   ],
   "metadata": {
    "collapsed": false,
    "pycharm": {
     "name": "#%%\n"
    }
   }
  },
  {
   "cell_type": "code",
   "execution_count": 4,
   "outputs": [],
   "source": [
    "def plot_by_dataset(result_array, dataset, metric):\n",
    "    plt.style.use('seaborn-whitegrid')\n",
    "    fig = plt.figure()\n",
    "    ax = plt.axes()\n",
    "    for i, robust_method in enumerate(robust_methods):\n",
    "        ax.plot(noise_rates, result_array[i,:], label=robust_method)\n",
    "    ax.set_title(\"%s on %s dataset\" % (metric, dataset))\n",
    "    ax.set_xlabel(\"noise rates\")\n",
    "    ax.set_ylabel(metric);\n",
    "    ax.legend()\n",
    "\n",
    "    fig.show()\n",
    "    fig.savefig(\"%s %s.png\" % (dataset, metric), dpi=300)\n",
    "    plt.close(fig)"
   ],
   "metadata": {
    "collapsed": false,
    "pycharm": {
     "name": "#%%\n"
    }
   }
  },
  {
   "cell_type": "code",
   "execution_count": 34,
   "outputs": [
    {
     "name": "stderr",
     "output_type": "stream",
     "text": [
      "<ipython-input-33-cc5e052a81ab>:12: UserWarning: Matplotlib is currently using module://ipykernel.pylab.backend_inline, which is a non-GUI backend, so cannot show the figure.\n",
      "  fig.show()\n",
      "<ipython-input-33-cc5e052a81ab>:12: UserWarning: Matplotlib is currently using module://ipykernel.pylab.backend_inline, which is a non-GUI backend, so cannot show the figure.\n",
      "  fig.show()\n",
      "<ipython-input-33-cc5e052a81ab>:12: UserWarning: Matplotlib is currently using module://ipykernel.pylab.backend_inline, which is a non-GUI backend, so cannot show the figure.\n",
      "  fig.show()\n",
      "<ipython-input-33-cc5e052a81ab>:12: UserWarning: Matplotlib is currently using module://ipykernel.pylab.backend_inline, which is a non-GUI backend, so cannot show the figure.\n",
      "  fig.show()\n",
      "<ipython-input-33-cc5e052a81ab>:12: UserWarning: Matplotlib is currently using module://ipykernel.pylab.backend_inline, which is a non-GUI backend, so cannot show the figure.\n",
      "  fig.show()\n",
      "<ipython-input-33-cc5e052a81ab>:12: UserWarning: Matplotlib is currently using module://ipykernel.pylab.backend_inline, which is a non-GUI backend, so cannot show the figure.\n",
      "  fig.show()\n"
     ]
    }
   ],
   "source": [
    "for dataset in datasets:\n",
    "    result_array = get_metric_by_dataset(dataset, 'eval_accuracy')\n",
    "    plot_by_dataset(result_array, dataset, 'Test accuracy')\n",
    "\n",
    "    result_array = get_metric_by_dataset(dataset, 'eval_loss')\n",
    "    plot_by_dataset(result_array, dataset, 'Test loss')"
   ],
   "metadata": {
    "collapsed": false,
    "pycharm": {
     "name": "#%%\n"
    }
   }
  },
  {
   "cell_type": "code",
   "execution_count": 34,
   "outputs": [],
   "source": [],
   "metadata": {
    "collapsed": false,
    "pycharm": {
     "name": "#%%\n"
    }
   }
  },
  {
   "cell_type": "code",
   "execution_count": 34,
   "outputs": [],
   "source": [],
   "metadata": {
    "collapsed": false,
    "pycharm": {
     "name": "#%%\n"
    }
   }
  }
 ],
 "metadata": {
  "kernelspec": {
   "name": "python38564bitvenv95a03623a881487d83218e6b19f85eba",
   "language": "python",
   "display_name": "Python 3.8.5 64-bit ('venv')"
  },
  "language_info": {
   "codemirror_mode": {
    "name": "ipython",
    "version": 2
   },
   "file_extension": ".py",
   "mimetype": "text/x-python",
   "name": "python",
   "nbconvert_exporter": "python",
   "pygments_lexer": "ipython2",
   "version": "2.7.6"
  }
 },
 "nbformat": 4,
 "nbformat_minor": 0
}