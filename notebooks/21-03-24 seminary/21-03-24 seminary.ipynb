{
 "cells": [
  {
   "cell_type": "code",
   "execution_count": 101,
   "metadata": {
    "collapsed": true
   },
   "outputs": [
    {
     "data": {
      "text/plain": "          ID        dataset       model    noise  noise-args robust-method  \\\n0   LNSD-341       diabetes  simple-mlp  uniform        0.00     boot-soft   \n1  LNSD-1006  breast-cancer  simple-mlp  uniform        0.00     boot-hard   \n2   LNSD-910  breast-cancer  simple-mlp  uniform        0.15          none   \n3   LNSD-390  breast-cancer  simple-mlp  uniform        0.15          none   \n4   LNSD-388  breast-cancer  simple-mlp  uniform        0.10       forward   \n\n                    loss-args  eval_loss  eval_accuracy  epochs  batch_size  \\\n0                          []   0.052478       1.000000    10.0        32.0   \n1                          []   0.110205       0.991228    10.0        32.0   \n2                          []   0.219819       0.991228    10.0        32.0   \n3                          []   0.244681       0.991228    10.0        32.0   \n4  [[[0.9, 0.1], [0.1, 0.9]]]   0.161186       0.991228    10.0        32.0   \n\n                                best-hyperparameters    seed  \n0  {'num_layers': 3, 'hidden_size_0': 37, 'hidden...   147.0  \n1  {'num_layers': 1, 'hidden_size_0': 33, 'dropou...   321.0  \n2  {'num_layers': 3, 'hidden_size_0': 127, 'hidde...  1746.0  \n3  {'num_layers': 3, 'hidden_size_0': 8, 'hidden_...  1147.0  \n4  {'num_layers': 2, 'hidden_size_0': 54, 'hidden...  1147.0  ",
      "text/html": "<div>\n<style scoped>\n    .dataframe tbody tr th:only-of-type {\n        vertical-align: middle;\n    }\n\n    .dataframe tbody tr th {\n        vertical-align: top;\n    }\n\n    .dataframe thead th {\n        text-align: right;\n    }\n</style>\n<table border=\"1\" class=\"dataframe\">\n  <thead>\n    <tr style=\"text-align: right;\">\n      <th></th>\n      <th>ID</th>\n      <th>dataset</th>\n      <th>model</th>\n      <th>noise</th>\n      <th>noise-args</th>\n      <th>robust-method</th>\n      <th>loss-args</th>\n      <th>eval_loss</th>\n      <th>eval_accuracy</th>\n      <th>epochs</th>\n      <th>batch_size</th>\n      <th>best-hyperparameters</th>\n      <th>seed</th>\n    </tr>\n  </thead>\n  <tbody>\n    <tr>\n      <th>0</th>\n      <td>LNSD-341</td>\n      <td>diabetes</td>\n      <td>simple-mlp</td>\n      <td>uniform</td>\n      <td>0.00</td>\n      <td>boot-soft</td>\n      <td>[]</td>\n      <td>0.052478</td>\n      <td>1.000000</td>\n      <td>10.0</td>\n      <td>32.0</td>\n      <td>{'num_layers': 3, 'hidden_size_0': 37, 'hidden...</td>\n      <td>147.0</td>\n    </tr>\n    <tr>\n      <th>1</th>\n      <td>LNSD-1006</td>\n      <td>breast-cancer</td>\n      <td>simple-mlp</td>\n      <td>uniform</td>\n      <td>0.00</td>\n      <td>boot-hard</td>\n      <td>[]</td>\n      <td>0.110205</td>\n      <td>0.991228</td>\n      <td>10.0</td>\n      <td>32.0</td>\n      <td>{'num_layers': 1, 'hidden_size_0': 33, 'dropou...</td>\n      <td>321.0</td>\n    </tr>\n    <tr>\n      <th>2</th>\n      <td>LNSD-910</td>\n      <td>breast-cancer</td>\n      <td>simple-mlp</td>\n      <td>uniform</td>\n      <td>0.15</td>\n      <td>none</td>\n      <td>[]</td>\n      <td>0.219819</td>\n      <td>0.991228</td>\n      <td>10.0</td>\n      <td>32.0</td>\n      <td>{'num_layers': 3, 'hidden_size_0': 127, 'hidde...</td>\n      <td>1746.0</td>\n    </tr>\n    <tr>\n      <th>3</th>\n      <td>LNSD-390</td>\n      <td>breast-cancer</td>\n      <td>simple-mlp</td>\n      <td>uniform</td>\n      <td>0.15</td>\n      <td>none</td>\n      <td>[]</td>\n      <td>0.244681</td>\n      <td>0.991228</td>\n      <td>10.0</td>\n      <td>32.0</td>\n      <td>{'num_layers': 3, 'hidden_size_0': 8, 'hidden_...</td>\n      <td>1147.0</td>\n    </tr>\n    <tr>\n      <th>4</th>\n      <td>LNSD-388</td>\n      <td>breast-cancer</td>\n      <td>simple-mlp</td>\n      <td>uniform</td>\n      <td>0.10</td>\n      <td>forward</td>\n      <td>[[[0.9, 0.1], [0.1, 0.9]]]</td>\n      <td>0.161186</td>\n      <td>0.991228</td>\n      <td>10.0</td>\n      <td>32.0</td>\n      <td>{'num_layers': 2, 'hidden_size_0': 54, 'hidden...</td>\n      <td>1147.0</td>\n    </tr>\n  </tbody>\n</table>\n</div>"
     },
     "execution_count": 101,
     "metadata": {},
     "output_type": "execute_result"
    }
   ],
   "source": [
    "import pandas as pd\n",
    "import numpy as np\n",
    "import matplotlib.pyplot as plt\n",
    "\n",
    "dataframe = pd.read_csv(\"raw results.csv\")\n",
    "dataframe.head()"
   ]
  },
  {
   "cell_type": "code",
   "execution_count": 102,
   "outputs": [],
   "source": [
    "datasets = dataframe[\"dataset\"].unique()\n",
    "robust_methods = dataframe[\"robust-method\"].unique()\n",
    "noise_rates = dataframe[\"noise-args\"].unique()\n",
    "noise_rates.sort()"
   ],
   "metadata": {
    "collapsed": false,
    "pycharm": {
     "name": "#%%\n"
    }
   }
  },
  {
   "cell_type": "code",
   "execution_count": 103,
   "outputs": [
    {
     "name": "stdout",
     "output_type": "stream",
     "text": [
      "           dataset       model    noise  noise-args robust-method  \\\n",
      "0    breast-cancer  simple-mlp  uniform         0.0      backward   \n",
      "1    breast-cancer  simple-mlp  uniform         0.0     boot-hard   \n",
      "2    breast-cancer  simple-mlp  uniform         0.0     boot-soft   \n",
      "3    breast-cancer  simple-mlp  uniform         0.0       forward   \n",
      "4    breast-cancer  simple-mlp  uniform         0.0          none   \n",
      "..             ...         ...      ...         ...           ...   \n",
      "100         german  simple-mlp  uniform         0.3      backward   \n",
      "101         german  simple-mlp  uniform         0.3     boot-hard   \n",
      "102         german  simple-mlp  uniform         0.3     boot-soft   \n",
      "103         german  simple-mlp  uniform         0.3       forward   \n",
      "104         german  simple-mlp  uniform         0.3          none   \n",
      "\n",
      "                      loss-args  acc_mean   acc_min   acc_max   acc_std  \\\n",
      "0    [[[1.0, 0.0], [0.0, 1.0]]]  0.970395  0.956140  0.982456  0.011425   \n",
      "1                            []  0.972588  0.956140  0.991228  0.010934   \n",
      "2                            []  0.964912  0.947368  0.982456  0.015551   \n",
      "3    [[[1.0, 0.0], [0.0, 1.0]]]  0.970395  0.956140  0.982456  0.011425   \n",
      "4                            []  0.970395  0.956140  0.982456  0.011425   \n",
      "..                          ...       ...       ...       ...       ...   \n",
      "100  [[[0.7, 0.3], [0.3, 0.7]]]  0.701250  0.660000  0.745000  0.026015   \n",
      "101                          []  0.700625  0.645000  0.745000  0.036394   \n",
      "102                          []  0.681875  0.640000  0.720000  0.022029   \n",
      "103  [[[0.7, 0.3], [0.3, 0.7]]]  0.688125  0.560000  0.765000  0.064583   \n",
      "104                          []  0.660000  0.565000  0.715000  0.061179   \n",
      "\n",
      "     loss_mean  loss_min  loss_max  loss_std  \n",
      "0     0.102221  0.049162  0.180952  0.051947  \n",
      "1     0.089455  0.045045  0.161164  0.047201  \n",
      "2     0.098016  0.053371  0.202663  0.052358  \n",
      "3     0.102221  0.049162  0.180952  0.051947  \n",
      "4     0.102221  0.049162  0.180952  0.051947  \n",
      "..         ...       ...       ...       ...  \n",
      "100  -0.423109 -1.723228  0.243074  0.732925  \n",
      "101   0.555110  0.515567  0.637011  0.036966  \n",
      "102   0.612436  0.578820  0.644091  0.023403  \n",
      "103   0.618236  0.559637  0.676028  0.032406  \n",
      "104   0.621734  0.567557  0.682659  0.037252  \n",
      "\n",
      "[105 rows x 14 columns]\n"
     ]
    }
   ],
   "source": [
    "grouped_multiple = dataframe.groupby(['dataset', 'model', 'noise', 'noise-args', 'robust-method', 'loss-args']).agg({'eval_accuracy': ['mean', 'min', 'max', 'std'], 'eval_loss': ['mean', 'min', 'max', 'std']})\n",
    "grouped_multiple.columns = ['acc_mean', 'acc_min', 'acc_max', 'acc_std', 'loss_mean', 'loss_min', 'loss_max', 'loss_std']\n",
    "grouped_multiple = grouped_multiple.reset_index()\n",
    "print(grouped_multiple)"
   ],
   "metadata": {
    "collapsed": false,
    "pycharm": {
     "name": "#%%\n"
    }
   }
  },
  {
   "cell_type": "code",
   "execution_count": 104,
   "outputs": [],
   "source": [
    "def get_metric_by_dataset(dataset, metric):\n",
    "\n",
    "    result_mean = np.zeros( (len(robust_methods), len(noise_rates)) )\n",
    "    result_std = np.zeros( (len(robust_methods), len(noise_rates)) )\n",
    "    for i, robust_method in enumerate(robust_methods):\n",
    "        for j, noise_rate in enumerate(noise_rates):\n",
    "            robust_method_index = grouped_multiple[\"robust-method\"] == robust_method\n",
    "            noise_rate_index = grouped_multiple[\"noise-args\"] == noise_rate\n",
    "            dataset_index = grouped_multiple[\"dataset\"] == dataset\n",
    "            df_index = robust_method_index & noise_rate_index & dataset_index\n",
    "            result_mean[i,j] = grouped_multiple[df_index][\"%s_mean\" % metric]\n",
    "            result_std[i,j] = grouped_multiple[df_index][\"%s_std\" % metric]\n",
    "\n",
    "    return result_mean, result_std"
   ],
   "metadata": {
    "collapsed": false,
    "pycharm": {
     "name": "#%%\n"
    }
   }
  },
  {
   "cell_type": "code",
   "execution_count": 105,
   "outputs": [],
   "source": [
    "def plot_by_dataset(result_mean, result_std, dataset, metric):\n",
    "    plt.style.use('seaborn-whitegrid')\n",
    "    fig = plt.figure()\n",
    "    ax = plt.axes()\n",
    "    for i, robust_method in enumerate(robust_methods):\n",
    "        y_err = result_std[i,:]\n",
    "        ax.plot(noise_rates, result_mean[i,:], label=robust_method)\n",
    "        ax.fill_between(noise_rates, result_mean[i,:] - y_err, result_mean[i,:] + y_err, alpha=0.2)\n",
    "    ax.set_title(\"%s on %s dataset\" % (metric, dataset))\n",
    "    ax.set_xlabel(\"noise rates\")\n",
    "    ax.set_ylabel(metric);\n",
    "    ax.legend()\n",
    "\n",
    "    fig.show()\n",
    "    fig.savefig(\"%s %s.png\" % (dataset, metric), dpi=300)\n",
    "    plt.close(fig)"
   ],
   "metadata": {
    "collapsed": false,
    "pycharm": {
     "name": "#%%\n"
    }
   }
  },
  {
   "cell_type": "code",
   "execution_count": 106,
   "outputs": [
    {
     "name": "stderr",
     "output_type": "stream",
     "text": [
      "<ipython-input-105-0db0b8a39139>:14: UserWarning: Matplotlib is currently using module://ipykernel.pylab.backend_inline, which is a non-GUI backend, so cannot show the figure.\n",
      "  fig.show()\n",
      "<ipython-input-105-0db0b8a39139>:14: UserWarning: Matplotlib is currently using module://ipykernel.pylab.backend_inline, which is a non-GUI backend, so cannot show the figure.\n",
      "  fig.show()\n",
      "<ipython-input-105-0db0b8a39139>:14: UserWarning: Matplotlib is currently using module://ipykernel.pylab.backend_inline, which is a non-GUI backend, so cannot show the figure.\n",
      "  fig.show()\n",
      "<ipython-input-105-0db0b8a39139>:14: UserWarning: Matplotlib is currently using module://ipykernel.pylab.backend_inline, which is a non-GUI backend, so cannot show the figure.\n",
      "  fig.show()\n",
      "<ipython-input-105-0db0b8a39139>:14: UserWarning: Matplotlib is currently using module://ipykernel.pylab.backend_inline, which is a non-GUI backend, so cannot show the figure.\n",
      "  fig.show()\n",
      "<ipython-input-105-0db0b8a39139>:14: UserWarning: Matplotlib is currently using module://ipykernel.pylab.backend_inline, which is a non-GUI backend, so cannot show the figure.\n",
      "  fig.show()\n"
     ]
    }
   ],
   "source": [
    "for d in datasets:\n",
    "    result_mean, result_std =  get_metric_by_dataset(d, 'acc')\n",
    "    plot_by_dataset(result_mean, result_std, d, 'Test accuracy')\n",
    "\n",
    "    result_mean, result_std = get_metric_by_dataset(d, 'loss')\n",
    "    plot_by_dataset(result_mean, result_std, d, 'Test loss')"
   ],
   "metadata": {
    "collapsed": false,
    "pycharm": {
     "name": "#%%\n"
    }
   }
  },
  {
   "cell_type": "code",
   "execution_count": 106,
   "outputs": [],
   "source": [],
   "metadata": {
    "collapsed": false,
    "pycharm": {
     "name": "#%%\n"
    }
   }
  },
  {
   "cell_type": "code",
   "execution_count": 106,
   "outputs": [],
   "source": [],
   "metadata": {
    "collapsed": false,
    "pycharm": {
     "name": "#%%\n"
    }
   }
  }
 ],
 "metadata": {
  "kernelspec": {
   "name": "python38564bitvenv95a03623a881487d83218e6b19f85eba",
   "language": "python",
   "display_name": "Python 3.8.5 64-bit ('venv')"
  },
  "language_info": {
   "codemirror_mode": {
    "name": "ipython",
    "version": 2
   },
   "file_extension": ".py",
   "mimetype": "text/x-python",
   "name": "python",
   "nbconvert_exporter": "python",
   "pygments_lexer": "ipython2",
   "version": "2.7.6"
  }
 },
 "nbformat": 4,
 "nbformat_minor": 0
}