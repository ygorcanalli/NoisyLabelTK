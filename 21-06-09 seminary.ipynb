{
 "cells": [
  {
   "cell_type": "code",
   "execution_count": 1,
   "metadata": {},
   "outputs": [],
   "source": [
    "import numpy as np\n",
    "from noisylabeltk.experiment import Experiment\n",
    "from noisylabeltk.datasets import DatasetLoader\n",
    "from noisylabeltk.metrics import evaluate_discrimination\n",
    "\n",
    "import os"
   ]
  },
  {
   "cell_type": "code",
   "execution_count": 2,
   "outputs": [],
   "source": [
    "project_name = 'ygorcanalli/LabelNoise'\n",
    "n_jobs = 8\n",
    "device = 'gpu'\n",
    "\n",
    "if device == 'cpu':\n",
    "    os.environ[\"CUDA_VISIBLE_DEVICES\"] = \"-1\""
   ],
   "metadata": {
    "collapsed": false,
    "pycharm": {
     "name": "#%%\n"
    }
   }
  },
  {
   "cell_type": "code",
   "execution_count": 3,
   "metadata": {
    "pycharm": {
     "name": "#%%\n"
    }
   },
   "outputs": [],
   "source": [
    "hyperparameters = {}\n",
    "hyperparameters['num_layers'] = 3\n",
    "hyperparameters['hidden_size_0'] = 32\n",
    "hyperparameters['hidden_size_1'] = 64\n",
    "hyperparameters['hidden_size_2'] = 32\n",
    "hyperparameters['dropout'] = 0.2\n",
    "\n",
    "project_name = 'ygorcanalli/FairnessNoise'\n",
    "experiment_name = ' income_fairness'\n",
    "\n",
    "parameters = {\n",
    "            'batch-size': 32,\n",
    "            'epochs': 10,\n",
    "            'dataset': 'german',\n",
    "            'model': 'simple-mlp',\n",
    "            'noise': None,\n",
    "            'noise-args': None,\n",
    "            'robust-method': 'boot-hard',\n",
    "            'loss-args': None,\n",
    "            'loss-kwargs': None,\n",
    "}"
   ]
  },
  {
   "cell_type": "code",
   "execution_count": 4,
   "metadata": {
    "pycharm": {
     "name": "#%%\n"
    }
   },
   "outputs": [],
   "source": [
    "dataset_loader = DatasetLoader(parameters['dataset'], parameters['batch-size'])\n",
    "\n",
    "(train_ds, validation_ds, test_ds), num_features, num_classes = dataset_loader.load()"
   ]
  },
  {
   "cell_type": "code",
   "execution_count": 5,
   "metadata": {
    "pycharm": {
     "name": "#%%\n"
    }
   },
   "outputs": [],
   "source": [
    "exp = Experiment(num_features,\n",
    "                 num_classes,\n",
    "                 parameters,\n",
    "                 project_name,\n",
    "                 experiment_name)"
   ]
  },
  {
   "cell_type": "code",
   "execution_count": 6,
   "metadata": {
    "pycharm": {
     "name": "#%%\n"
    }
   },
   "outputs": [
    {
     "name": "stderr",
     "output_type": "stream",
     "text": [
      "Info (NVML): Driver Not Loaded. GPU usage metrics may not be reported. For more information, see https://docs-legacy.neptune.ai/logging-and-managing-experiment-results/logging-experiment-data.html#hardware-consumption \n"
     ]
    },
    {
     "name": "stdout",
     "output_type": "stream",
     "text": [
      "https://app.neptune.ai/ygorcanalli/FairnessNoise/e/FAIRNOISE-27\n"
     ]
    }
   ],
   "source": [
    "exp.build_model(hyperparameters)\n",
    "exp.fit_model(train_ds, validation_ds)"
   ]
  },
  {
   "cell_type": "code",
   "execution_count": 7,
   "outputs": [
    {
     "name": "stdout",
     "output_type": "stream",
     "text": [
      "Shutting down background jobs, please wait a moment...\n",
      "Done!\n"
     ]
    },
    {
     "name": "stderr",
     "output_type": "stream",
     "text": [
      "Waiting for the remaining 488 operations to synchronize with Neptune. Do not kill this process.\n"
     ]
    },
    {
     "name": "stdout",
     "output_type": "stream",
     "text": [
      "All 488 operations synced, thanks for waiting!\n"
     ]
    }
   ],
   "source": [
    "exp.evaluate(test_ds)\n",
    "disc = evaluate_discrimination(dataset_loader, exp.model)\n",
    "exp.neptune_run['metrics/discrimination'].log(disc)\n",
    "exp.stop_tracking()"
   ],
   "metadata": {
    "collapsed": false,
    "pycharm": {
     "name": "#%%\n"
    }
   }
  },
  {
   "cell_type": "code",
   "execution_count": 7,
   "outputs": [],
   "source": [],
   "metadata": {
    "collapsed": false,
    "pycharm": {
     "name": "#%%\n"
    }
   }
  }
 ],
 "metadata": {
  "kernelspec": {
   "display_name": "Python 3",
   "language": "python",
   "name": "python3"
  },
  "language_info": {
   "codemirror_mode": {
    "name": "ipython",
    "version": 3
   },
   "file_extension": ".py",
   "mimetype": "text/x-python",
   "name": "python",
   "nbconvert_exporter": "python",
   "pygments_lexer": "ipython3",
   "version": "3.8.5"
  }
 },
 "nbformat": 4,
 "nbformat_minor": 1
}